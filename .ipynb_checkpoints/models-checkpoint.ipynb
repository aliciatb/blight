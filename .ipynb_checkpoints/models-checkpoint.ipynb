{
 "cells": [
  {
   "cell_type": "code",
   "execution_count": 2,
   "metadata": {
    "collapsed": false
   },
   "outputs": [],
   "source": [
    "from datetime import datetime, date\n",
    "import numpy as np\n",
    "import pandas as pd\n",
    "from sklearn.naive_bayes import GaussianNB\n",
    "from sklearn import grid_search\n",
    "from sklearn import linear_model\n",
    "from sklearn import metrics\n",
    "from sklearn.ensemble import RandomForestClassifier\n",
    "from sklearn.cross_validation import train_test_split"
   ]
  },
  {
   "cell_type": "code",
   "execution_count": 3,
   "metadata": {
    "collapsed": false
   },
   "outputs": [
    {
     "name": "stdout",
     "output_type": "stream",
     "text": [
      "Rowcount:  160,985\n"
     ]
    }
   ],
   "source": [
    "file = 'building_blight_features.csv'\n",
    "data = pd.read_csv(file)\n",
    "buildings = pd.DataFrame(data, columns = ['Address','Latitude','Longitude','blight','CrimeCount','311Count','BlightViolationCount','Ward','ParcelNo','PropAddr','SalePrice','TaxStatus','ResYrBuilt','IsImproved','AppraisedValue','TaxedValue'])\n",
    "buildings\n",
    "print \"Rowcount: \", \"{:,}\".format(len(buildings))"
   ]
  },
  {
   "cell_type": "code",
   "execution_count": 4,
   "metadata": {
    "collapsed": false
   },
   "outputs": [],
   "source": [
    "features = buildings[['CrimeCount','311Count','BlightViolationCount','SalePrice','IsImproved','AppraisedValue','TaxedValue']].columns"
   ]
  },
  {
   "cell_type": "code",
   "execution_count": 5,
   "metadata": {
    "collapsed": false
   },
   "outputs": [
    {
     "data": {
      "text/plain": [
       "Index([u'CrimeCount', u'311Count', u'BlightViolationCount', u'SalePrice',\n",
       "       u'IsImproved', u'AppraisedValue', u'TaxedValue'],\n",
       "      dtype='object')"
      ]
     },
     "execution_count": 5,
     "metadata": {},
     "output_type": "execute_result"
    }
   ],
   "source": [
    "features"
   ]
  },
  {
   "cell_type": "code",
   "execution_count": 6,
   "metadata": {
    "collapsed": false
   },
   "outputs": [],
   "source": [
    "# create training and testing sets\n",
    "train, test = train_test_split(buildings, test_size = 0.25)"
   ]
  },
  {
   "cell_type": "code",
   "execution_count": 7,
   "metadata": {
    "collapsed": false
   },
   "outputs": [],
   "source": [
    "# identify what we are predicting!\n",
    "y, _ = pd.factorize(train['blight'])"
   ]
  },
  {
   "cell_type": "code",
   "execution_count": 8,
   "metadata": {
    "collapsed": false
   },
   "outputs": [],
   "source": [
    "# Naive Bayes\n",
    "bayes = GaussianNB().fit(train[features], y)\n",
    "bayes_predict = bayes.predict(test[features])\n",
    "\n",
    "# Logistic regression\n",
    "logistic = linear_model.LogisticRegression().fit(train[features], y)\n",
    "logistic_predict = logistic.predict(test[features])\n",
    "\n",
    "# Random Forest\n",
    "rf = RandomForestClassifier().fit(train[features], y)\n",
    "rf_predict = rf.predict(test[features])"
   ]
  },
  {
   "cell_type": "code",
   "execution_count": 9,
   "metadata": {
    "collapsed": false
   },
   "outputs": [
    {
     "data": {
      "text/html": [
       "<div>\n",
       "<table border=\"1\" class=\"dataframe\">\n",
       "  <thead>\n",
       "    <tr style=\"text-align: right;\">\n",
       "      <th>preds</th>\n",
       "      <th>0</th>\n",
       "      <th>1</th>\n",
       "    </tr>\n",
       "    <tr>\n",
       "      <th>actual</th>\n",
       "      <th></th>\n",
       "      <th></th>\n",
       "    </tr>\n",
       "  </thead>\n",
       "  <tbody>\n",
       "    <tr>\n",
       "      <th>0.0</th>\n",
       "      <td>38952</td>\n",
       "      <td>0</td>\n",
       "    </tr>\n",
       "    <tr>\n",
       "      <th>1.0</th>\n",
       "      <td>0</td>\n",
       "      <td>1295</td>\n",
       "    </tr>\n",
       "  </tbody>\n",
       "</table>\n",
       "</div>"
      ],
      "text/plain": [
       "preds       0     1\n",
       "actual             \n",
       "0.0     38952     0\n",
       "1.0         0  1295"
      ]
     },
     "execution_count": 9,
     "metadata": {},
     "output_type": "execute_result"
    }
   ],
   "source": [
    "pd.crosstab(test['blight'], rf_predict, rownames=['actual'], colnames=['preds'])"
   ]
  },
  {
   "cell_type": "code",
   "execution_count": 10,
   "metadata": {
    "collapsed": false
   },
   "outputs": [
    {
     "name": "stdout",
     "output_type": "stream",
     "text": [
      "             precision    recall  f1-score   support\n",
      "\n",
      "        0.0       1.00      0.14      0.24     38952\n",
      "        1.0       0.04      0.98      0.07      1295\n",
      "\n",
      "avg / total       0.96      0.16      0.23     40247\n",
      "\n",
      "             precision    recall  f1-score   support\n",
      "\n",
      "        0.0       0.97      1.00      0.99     38952\n",
      "        1.0       1.00      0.13      0.22      1295\n",
      "\n",
      "avg / total       0.97      0.97      0.96     40247\n",
      "\n",
      "             precision    recall  f1-score   support\n",
      "\n",
      "        0.0       1.00      1.00      1.00     38952\n",
      "        1.0       1.00      1.00      1.00      1295\n",
      "\n",
      "avg / total       1.00      1.00      1.00     40247\n",
      "\n"
     ]
    }
   ],
   "source": [
    "# Classification Metrics\n",
    "print(metrics.classification_report(test.blight, bayes_predict))\n",
    "print(metrics.classification_report(test.blight, logistic_predict))\n",
    "print(metrics.classification_report(test.blight, rf_predict))"
   ]
  },
  {
   "cell_type": "code",
   "execution_count": null,
   "metadata": {
    "collapsed": true
   },
   "outputs": [],
   "source": []
  }
 ],
 "metadata": {
  "kernelspec": {
   "display_name": "Python 2",
   "language": "python",
   "name": "python2"
  },
  "language_info": {
   "codemirror_mode": {
    "name": "ipython",
    "version": 2
   },
   "file_extension": ".py",
   "mimetype": "text/x-python",
   "name": "python",
   "nbconvert_exporter": "python",
   "pygments_lexer": "ipython2",
   "version": "2.7.11"
  }
 },
 "nbformat": 4,
 "nbformat_minor": 0
}
